{
 "cells": [
  {
   "cell_type": "code",
   "execution_count": null,
   "id": "14e84dd9-740e-41be-a826-5bbdf1a9f933",
   "metadata": {},
   "outputs": [],
   "source": [
    "import pandas as pd\n",
    "from sklearn.preprocessing import MinMaxScaler\n",
    "from sklearn.preprocessing import StandardScaler\n",
    "from sklearn.model_selection import train_test_split\n",
    "\n",
    "from sklearn.linear_model import LogisticRegression\n",
    "from sklearn.ensemble import RandomForestClassifier\n",
    "from sklearn.tree import DecisionTreeClassifier\n",
    "from sklearn.svm import SVC\n",
    "from sklearn.neighbors import KNeighborsClassifier\n",
    "from sklearn.metrics import accuracy_score, confusion_matrix, classification_report\n",
    "\n",
    "import os\n",
    "os.environ[\"LOKY_MAX_CPU_COUNT\"] = \"4\"  # Cores I want to use"
   ]
  },
  {
   "cell_type": "code",
   "execution_count": 3,
   "id": "232cf8e7-7a9c-4378-83c2-d30a0ca31dd4",
   "metadata": {},
   "outputs": [
    {
     "name": "stdout",
     "output_type": "stream",
     "text": [
      "   Age Attrition     BusinessTravel  DailyRate              Department  \\\n",
      "0   41       Yes      Travel_Rarely       1102                   Sales   \n",
      "1   49        No  Travel_Frequently        279  Research & Development   \n",
      "2   37       Yes      Travel_Rarely       1373  Research & Development   \n",
      "3   33        No  Travel_Frequently       1392  Research & Development   \n",
      "4   27        No      Travel_Rarely        591  Research & Development   \n",
      "\n",
      "   DistanceFromHome  Education EducationField  EmployeeCount  EmployeeNumber  \\\n",
      "0                 1          2  Life Sciences              1               1   \n",
      "1                 8          1  Life Sciences              1               2   \n",
      "2                 2          2          Other              1               4   \n",
      "3                 3          4  Life Sciences              1               5   \n",
      "4                 2          1        Medical              1               7   \n",
      "\n",
      "   ...  RelationshipSatisfaction StandardHours  StockOptionLevel  \\\n",
      "0  ...                         1            80                 0   \n",
      "1  ...                         4            80                 1   \n",
      "2  ...                         2            80                 0   \n",
      "3  ...                         3            80                 0   \n",
      "4  ...                         4            80                 1   \n",
      "\n",
      "   TotalWorkingYears  TrainingTimesLastYear WorkLifeBalance  YearsAtCompany  \\\n",
      "0                  8                      0               1               6   \n",
      "1                 10                      3               3              10   \n",
      "2                  7                      3               3               0   \n",
      "3                  8                      3               3               8   \n",
      "4                  6                      3               3               2   \n",
      "\n",
      "  YearsInCurrentRole  YearsSinceLastPromotion  YearsWithCurrManager  \n",
      "0                  4                        0                     5  \n",
      "1                  7                        1                     7  \n",
      "2                  0                        0                     0  \n",
      "3                  7                        3                     0  \n",
      "4                  2                        2                     2  \n",
      "\n",
      "[5 rows x 35 columns]\n"
     ]
    }
   ],
   "source": [
    "file_path = 'WA_Fn-UseC_-HR-Employee-Attrition.csv'\n",
    "data = pd.read_csv(file_path)\n",
    "\n",
    "print(data.head())"
   ]
  },
  {
   "cell_type": "markdown",
   "id": "c70e8134-71ad-48a9-8c1d-4664b8e5dbc3",
   "metadata": {},
   "source": [
    "DATA CLEANING"
   ]
  },
  {
   "cell_type": "code",
   "execution_count": 6,
   "id": "7e34635e-9b4a-425b-88c4-6e07dc225a7c",
   "metadata": {},
   "outputs": [],
   "source": [
    "columns_to_drop = ['EmployeeCount', 'EmployeeNumber', 'Over18', 'StandardHours']\n",
    "data_cleaned = data.drop(columns=columns_to_drop)"
   ]
  },
  {
   "cell_type": "code",
   "execution_count": 8,
   "id": "2eb6fe1c-ddbd-43ab-b67d-145efc2ccca9",
   "metadata": {},
   "outputs": [
    {
     "name": "stdout",
     "output_type": "stream",
     "text": [
      "Missing values per column:\n",
      " Age                         0\n",
      "Attrition                   0\n",
      "BusinessTravel              0\n",
      "DailyRate                   0\n",
      "Department                  0\n",
      "DistanceFromHome            0\n",
      "Education                   0\n",
      "EducationField              0\n",
      "EnvironmentSatisfaction     0\n",
      "Gender                      0\n",
      "HourlyRate                  0\n",
      "JobInvolvement              0\n",
      "JobLevel                    0\n",
      "JobRole                     0\n",
      "JobSatisfaction             0\n",
      "MaritalStatus               0\n",
      "MonthlyIncome               0\n",
      "MonthlyRate                 0\n",
      "NumCompaniesWorked          0\n",
      "OverTime                    0\n",
      "PercentSalaryHike           0\n",
      "PerformanceRating           0\n",
      "RelationshipSatisfaction    0\n",
      "StockOptionLevel            0\n",
      "TotalWorkingYears           0\n",
      "TrainingTimesLastYear       0\n",
      "WorkLifeBalance             0\n",
      "YearsAtCompany              0\n",
      "YearsInCurrentRole          0\n",
      "YearsSinceLastPromotion     0\n",
      "YearsWithCurrManager        0\n",
      "dtype: int64\n"
     ]
    }
   ],
   "source": [
    "missing_values = data_cleaned.isnull().sum()\n",
    "\n",
    "print(\"Missing values per column:\\n\", missing_values)"
   ]
  },
  {
   "cell_type": "markdown",
   "id": "fde38899-f7ba-41d2-870e-56d0d21a090d",
   "metadata": {},
   "source": [
    "We saw that there is no missing values nor duplicates in the dataset. So, we will not be removing/dropping any rows."
   ]
  },
  {
   "cell_type": "markdown",
   "id": "cc5e6f7b-7973-4007-beac-d285955a1de7",
   "metadata": {},
   "source": [
    "DATA SUMMARIZATION"
   ]
  },
  {
   "cell_type": "code",
   "execution_count": 12,
   "id": "b5a84784-0a8a-49b3-86ca-fae5deef01b9",
   "metadata": {},
   "outputs": [],
   "source": [
    "# Summarize numerical columns\n",
    "numerical_summary = data_cleaned.describe()\n",
    "\n",
    "# Summarize categorical columns\n",
    "categorical_columns = data_cleaned.select_dtypes(include=['object']).columns\n",
    "categorical_summary = data_cleaned[categorical_columns].nunique()"
   ]
  },
  {
   "cell_type": "code",
   "execution_count": 14,
   "id": "41115c5f-ffb7-4059-82c1-b4bdb12c9e10",
   "metadata": {},
   "outputs": [
    {
     "name": "stdout",
     "output_type": "stream",
     "text": [
      "Numerical Summary:\n",
      "                Age    DailyRate  DistanceFromHome    Education  \\\n",
      "count  1470.000000  1470.000000       1470.000000  1470.000000   \n",
      "mean     36.923810   802.485714          9.192517     2.912925   \n",
      "std       9.135373   403.509100          8.106864     1.024165   \n",
      "min      18.000000   102.000000          1.000000     1.000000   \n",
      "25%      30.000000   465.000000          2.000000     2.000000   \n",
      "50%      36.000000   802.000000          7.000000     3.000000   \n",
      "75%      43.000000  1157.000000         14.000000     4.000000   \n",
      "max      60.000000  1499.000000         29.000000     5.000000   \n",
      "\n",
      "       EnvironmentSatisfaction   HourlyRate  JobInvolvement     JobLevel  \\\n",
      "count              1470.000000  1470.000000     1470.000000  1470.000000   \n",
      "mean                  2.721769    65.891156        2.729932     2.063946   \n",
      "std                   1.093082    20.329428        0.711561     1.106940   \n",
      "min                   1.000000    30.000000        1.000000     1.000000   \n",
      "25%                   2.000000    48.000000        2.000000     1.000000   \n",
      "50%                   3.000000    66.000000        3.000000     2.000000   \n",
      "75%                   4.000000    83.750000        3.000000     3.000000   \n",
      "max                   4.000000   100.000000        4.000000     5.000000   \n",
      "\n",
      "       JobSatisfaction  MonthlyIncome  ...  PerformanceRating  \\\n",
      "count      1470.000000    1470.000000  ...        1470.000000   \n",
      "mean          2.728571    6502.931293  ...           3.153741   \n",
      "std           1.102846    4707.956783  ...           0.360824   \n",
      "min           1.000000    1009.000000  ...           3.000000   \n",
      "25%           2.000000    2911.000000  ...           3.000000   \n",
      "50%           3.000000    4919.000000  ...           3.000000   \n",
      "75%           4.000000    8379.000000  ...           3.000000   \n",
      "max           4.000000   19999.000000  ...           4.000000   \n",
      "\n",
      "       RelationshipSatisfaction  StockOptionLevel  TotalWorkingYears  \\\n",
      "count               1470.000000       1470.000000        1470.000000   \n",
      "mean                   2.712245          0.793878          11.279592   \n",
      "std                    1.081209          0.852077           7.780782   \n",
      "min                    1.000000          0.000000           0.000000   \n",
      "25%                    2.000000          0.000000           6.000000   \n",
      "50%                    3.000000          1.000000          10.000000   \n",
      "75%                    4.000000          1.000000          15.000000   \n",
      "max                    4.000000          3.000000          40.000000   \n",
      "\n",
      "       TrainingTimesLastYear  WorkLifeBalance  YearsAtCompany  \\\n",
      "count            1470.000000      1470.000000     1470.000000   \n",
      "mean                2.799320         2.761224        7.008163   \n",
      "std                 1.289271         0.706476        6.126525   \n",
      "min                 0.000000         1.000000        0.000000   \n",
      "25%                 2.000000         2.000000        3.000000   \n",
      "50%                 3.000000         3.000000        5.000000   \n",
      "75%                 3.000000         3.000000        9.000000   \n",
      "max                 6.000000         4.000000       40.000000   \n",
      "\n",
      "       YearsInCurrentRole  YearsSinceLastPromotion  YearsWithCurrManager  \n",
      "count         1470.000000              1470.000000           1470.000000  \n",
      "mean             4.229252                 2.187755              4.123129  \n",
      "std              3.623137                 3.222430              3.568136  \n",
      "min              0.000000                 0.000000              0.000000  \n",
      "25%              2.000000                 0.000000              2.000000  \n",
      "50%              3.000000                 1.000000              3.000000  \n",
      "75%              7.000000                 3.000000              7.000000  \n",
      "max             18.000000                15.000000             17.000000  \n",
      "\n",
      "[8 rows x 23 columns]\n",
      "\n",
      "Categorical Column Unique Values:\n",
      " Attrition         2\n",
      "BusinessTravel    3\n",
      "Department        3\n",
      "EducationField    6\n",
      "Gender            2\n",
      "JobRole           9\n",
      "MaritalStatus     3\n",
      "OverTime          2\n",
      "dtype: int64\n"
     ]
    }
   ],
   "source": [
    "# Display summaries\n",
    "print(\"Numerical Summary:\\n\", numerical_summary)\n",
    "print(\"\\nCategorical Column Unique Values:\\n\", categorical_summary)"
   ]
  },
  {
   "cell_type": "markdown",
   "id": "42df8835-2ec0-457d-888d-6da4da459cb0",
   "metadata": {},
   "source": [
    "ONE-HOT ENCODING"
   ]
  },
  {
   "cell_type": "code",
   "execution_count": 17,
   "id": "9e1f0583-f396-4c74-bc9f-c2f1b14e2a2e",
   "metadata": {},
   "outputs": [],
   "source": [
    "# Convert 'Attrition' into a binary numeric column\n",
    "data_cleaned['Attrition'] = data_cleaned['Attrition'].map({'Yes': 1, 'No': 0})\n",
    "\n",
    "# Perform one-hot encoding on other categorical columns\n",
    "categorical_columns = data_cleaned.select_dtypes(include=['object']).columns\n",
    "data_encoded = pd.get_dummies(data_cleaned, columns=categorical_columns, drop_first=True)"
   ]
  },
  {
   "cell_type": "code",
   "execution_count": 19,
   "id": "5eab8b41-5780-4979-bcb1-a04046f6b1d8",
   "metadata": {},
   "outputs": [],
   "source": [
    "# Scaling Numerical Variables\n",
    "numerical_features = ['Age', 'MonthlyIncome', 'YearsAtCompany', 'DailyRate', 'HourlyRate']  # Add more if necessary\n",
    "scaler = MinMaxScaler()\n",
    "\n",
    "data_encoded[numerical_features] = scaler.fit_transform(data_encoded[numerical_features])"
   ]
  },
  {
   "cell_type": "markdown",
   "id": "18cba38e-ddcf-4817-9114-a1861bc10b21",
   "metadata": {},
   "source": [
    "SPLITTING DATA"
   ]
  },
  {
   "cell_type": "code",
   "execution_count": 22,
   "id": "9ad0b8d4-c9f5-4c00-b7de-fb797ea7cbeb",
   "metadata": {},
   "outputs": [],
   "source": [
    "X = data_encoded.drop('Attrition', axis=1)  # Feature\n",
    "y = data_encoded['Attrition']  # Target\n",
    "\n",
    "X_train, X_test, y_train, y_test = train_test_split(X, y, test_size=0.2, random_state=42)  # (80% training, 20% testing)"
   ]
  },
  {
   "cell_type": "code",
   "execution_count": 24,
   "id": "81c9e4a1-5b10-424a-aa78-a8b1cd3b1b6e",
   "metadata": {},
   "outputs": [
    {
     "name": "stdout",
     "output_type": "stream",
     "text": [
      "Training set shape: (1176, 44)\n",
      "Testing set shape: (294, 44)\n"
     ]
    }
   ],
   "source": [
    "# Checking the shape of the training and testing sets\n",
    "print(f\"Training set shape: {X_train.shape}\")\n",
    "print(f\"Testing set shape: {X_test.shape}\")"
   ]
  },
  {
   "cell_type": "markdown",
   "id": "c5519329-9eb9-431e-95a5-1f024192705e",
   "metadata": {},
   "source": [
    "SCALING THE DATA"
   ]
  },
  {
   "cell_type": "code",
   "execution_count": 27,
   "id": "e1527bd0-a5a6-4c77-a725-6837a706ce90",
   "metadata": {},
   "outputs": [],
   "source": [
    "scaler = StandardScaler()\n",
    "X_train_scaled = scaler.fit_transform(X_train)\n",
    "X_test_scaled = scaler.transform(X_test)"
   ]
  },
  {
   "cell_type": "markdown",
   "id": "c8f67bd1-fba1-45f7-a3c7-4ea36f4f660f",
   "metadata": {},
   "source": [
    "TRAINING AND COMPARING MULTIPLE MODELS"
   ]
  },
  {
   "cell_type": "code",
   "execution_count": 38,
   "id": "36831a46-6791-4a58-94ed-64630e5389b1",
   "metadata": {},
   "outputs": [],
   "source": [
    "models = []\n",
    "model_performance = {}\n",
    "\n",
    "# Defining models to be compared\n",
    "model_dict = {\n",
    "    \"Logistic Regression\": LogisticRegression(max_iter=5000, solver='liblinear'),  # Alternative solver\n",
    "    \"Random Forest\": RandomForestClassifier(random_state=42),\n",
    "    \"Decision Tree\": DecisionTreeClassifier(random_state=42),\n",
    "    \"SVM\": SVC(random_state=42),\n",
    "    \"KNN\": KNeighborsClassifier()\n",
    "}\n"
   ]
  },
  {
   "cell_type": "code",
   "execution_count": 40,
   "id": "eb757e18-8468-43df-99f8-17064760283a",
   "metadata": {},
   "outputs": [
    {
     "name": "stdout",
     "output_type": "stream",
     "text": [
      "\n",
      "Model: Logistic Regression\n",
      "Accuracy: 0.88\n",
      "Confusion Matrix:\n",
      " [[241  14]\n",
      " [ 21  18]]\n",
      "Classification Report:\n",
      "               precision    recall  f1-score   support\n",
      "\n",
      "           0       0.92      0.95      0.93       255\n",
      "           1       0.56      0.46      0.51        39\n",
      "\n",
      "    accuracy                           0.88       294\n",
      "   macro avg       0.74      0.70      0.72       294\n",
      "weighted avg       0.87      0.88      0.88       294\n",
      "\n",
      "\n",
      "Model: Random Forest\n",
      "Accuracy: 0.88\n",
      "Confusion Matrix:\n",
      " [[254   1]\n",
      " [ 35   4]]\n",
      "Classification Report:\n",
      "               precision    recall  f1-score   support\n",
      "\n",
      "           0       0.88      1.00      0.93       255\n",
      "           1       0.80      0.10      0.18        39\n",
      "\n",
      "    accuracy                           0.88       294\n",
      "   macro avg       0.84      0.55      0.56       294\n",
      "weighted avg       0.87      0.88      0.83       294\n",
      "\n",
      "\n",
      "Model: Decision Tree\n",
      "Accuracy: 0.76\n",
      "Confusion Matrix:\n",
      " [[215  40]\n",
      " [ 32   7]]\n",
      "Classification Report:\n",
      "               precision    recall  f1-score   support\n",
      "\n",
      "           0       0.87      0.84      0.86       255\n",
      "           1       0.15      0.18      0.16        39\n",
      "\n",
      "    accuracy                           0.76       294\n",
      "   macro avg       0.51      0.51      0.51       294\n",
      "weighted avg       0.77      0.76      0.76       294\n",
      "\n",
      "\n",
      "Model: SVM\n",
      "Accuracy: 0.90\n",
      "Confusion Matrix:\n",
      " [[254   1]\n",
      " [ 29  10]]\n",
      "Classification Report:\n",
      "               precision    recall  f1-score   support\n",
      "\n",
      "           0       0.90      1.00      0.94       255\n",
      "           1       0.91      0.26      0.40        39\n",
      "\n",
      "    accuracy                           0.90       294\n",
      "   macro avg       0.90      0.63      0.67       294\n",
      "weighted avg       0.90      0.90      0.87       294\n",
      "\n",
      "\n",
      "Model: KNN\n",
      "Accuracy: 0.88\n",
      "Confusion Matrix:\n",
      " [[252   3]\n",
      " [ 32   7]]\n",
      "Classification Report:\n",
      "               precision    recall  f1-score   support\n",
      "\n",
      "           0       0.89      0.99      0.94       255\n",
      "           1       0.70      0.18      0.29        39\n",
      "\n",
      "    accuracy                           0.88       294\n",
      "   macro avg       0.79      0.58      0.61       294\n",
      "weighted avg       0.86      0.88      0.85       294\n",
      "\n"
     ]
    }
   ],
   "source": [
    "# Train and Evaluate Each Model\n",
    "for model_name, model in model_dict.items():\n",
    "    model.fit(X_train_scaled, y_train)\n",
    "    \n",
    "    y_pred = model.predict(X_test_scaled)\n",
    "    \n",
    "    # Evaluate the model\n",
    "    accuracy = accuracy_score(y_test, y_pred)\n",
    "    conf_matrix = confusion_matrix(y_test, y_pred)\n",
    "    class_report = classification_report(y_test, y_pred, zero_division=1)  # Handle undefined precision\n",
    "    \n",
    "    # Store the performance metrics\n",
    "    model_performance[model_name] = {\n",
    "        'Accuracy': accuracy,\n",
    "        'Confusion Matrix': conf_matrix,\n",
    "        'Classification Report': class_report\n",
    "    }\n",
    "    \n",
    "    # Print the evaluation results for each model\n",
    "    print(f\"\\nModel: {model_name}\")\n",
    "    print(f\"Accuracy: {accuracy:.2f}\")\n",
    "    print(\"Confusion Matrix:\\n\", conf_matrix)\n",
    "    print(\"Classification Report:\\n\", class_report)"
   ]
  },
  {
   "cell_type": "code",
   "execution_count": 42,
   "id": "e5378f01-49cc-4cbb-98c6-c4b224b5ba63",
   "metadata": {},
   "outputs": [
    {
     "name": "stdout",
     "output_type": "stream",
     "text": [
      "\n",
      "Model Comparison:\n",
      "Logistic Regression: Accuracy = 0.88\n",
      "Random Forest: Accuracy = 0.88\n",
      "Decision Tree: Accuracy = 0.76\n",
      "SVM: Accuracy = 0.90\n",
      "KNN: Accuracy = 0.88\n"
     ]
    }
   ],
   "source": [
    "# Summarize the accuracy of each model for comparison\n",
    "print(\"\\nModel Comparison:\")\n",
    "for model_name, performance in model_performance.items():\n",
    "    print(f\"{model_name}: Accuracy = {performance['Accuracy']:.2f}\")"
   ]
  },
  {
   "cell_type": "markdown",
   "id": "3f7dfdf6-4851-4d8c-9a81-25fec6e6eccf",
   "metadata": {},
   "source": [
    "CHOOSING BEST MODEL based on the comparison of the HIGHEST ACCURACY (or best-balanced metrics)."
   ]
  },
  {
   "cell_type": "code",
   "execution_count": 45,
   "id": "33ab09e8-c689-4382-b64c-28b8860edf00",
   "metadata": {},
   "outputs": [
    {
     "name": "stdout",
     "output_type": "stream",
     "text": [
      "SVM has been saved successfully as 'SVM_model.pkl'.\n"
     ]
    }
   ],
   "source": [
    "import joblib\n",
    "\n",
    "# Selected the best model\n",
    "best_model_name = \"SVM\"\n",
    "best_model = model_dict[best_model_name]\n",
    "\n",
    "# Saving the model\n",
    "joblib.dump(best_model, f'{best_model_name}_model.pkl')\n",
    "print(f\"{best_model_name} has been saved successfully as '{best_model_name}_model.pkl'.\")"
   ]
  }
 ],
 "metadata": {
  "kernelspec": {
   "display_name": "Python [conda env:base] *",
   "language": "python",
   "name": "conda-base-py"
  },
  "language_info": {
   "codemirror_mode": {
    "name": "ipython",
    "version": 3
   },
   "file_extension": ".py",
   "mimetype": "text/x-python",
   "name": "python",
   "nbconvert_exporter": "python",
   "pygments_lexer": "ipython3",
   "version": "3.12.7"
  }
 },
 "nbformat": 4,
 "nbformat_minor": 5
}
